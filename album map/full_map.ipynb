{
 "cells": [
  {
   "cell_type": "markdown",
   "metadata": {},
   "source": [
    "## 完整案例"
   ]
  },
  {
   "cell_type": "code",
   "execution_count": 1,
   "metadata": {
    "ExecuteTime": {
     "end_time": "2020-07-26T04:51:19.616343Z",
     "start_time": "2020-07-26T04:51:18.681832Z"
    }
   },
   "outputs": [],
   "source": [
    "import ast\n",
    "import base64\n",
    "import os\n",
    "\n",
    "import branca\n",
    "import cv2\n",
    "import folium\n",
    "import pandas as pd\n",
    "import requests\n",
    "from folium.plugins import MarkerCluster\n",
    "from IPython.display import IFrame\n",
    "from PIL import Image\n",
    "from PIL.ExifTags import TAGS"
   ]
  },
  {
   "cell_type": "code",
   "execution_count": 2,
   "metadata": {
    "ExecuteTime": {
     "end_time": "2020-07-26T04:51:19.621270Z",
     "start_time": "2020-07-26T04:51:19.617248Z"
    }
   },
   "outputs": [],
   "source": [
    "def findAllImage(rawImagePath, endsWith='.jpg'):\n",
    "    \"\"\"\n",
    "    rawImagePath: 原图的文件夹路径\n",
    "    返回所有图片列表\n",
    "    \"\"\"\n",
    "    fileNames = os.listdir(rawImagePath)\n",
    "    for fileName in fileNames:\n",
    "        if not fileName.endswith(endsWith):\n",
    "            fileNames.remove(fileName)\n",
    "    return fileNames"
   ]
  },
  {
   "cell_type": "code",
   "execution_count": 3,
   "metadata": {
    "ExecuteTime": {
     "end_time": "2020-07-26T04:51:19.629217Z",
     "start_time": "2020-07-26T04:51:19.622235Z"
    }
   },
   "outputs": [],
   "source": [
    "def getGpsInfo(exifInfo):\n",
    "    \"\"\"\n",
    "    exifInfo: 图片信息\n",
    "    返回gps定位\n",
    "    \"\"\"\n",
    "    for tag, gpsValue in list(exifInfo.items()):\n",
    "        decoded = TAGS.get(tag)\n",
    "        if decoded == 'GPSInfo':\n",
    "            return gpsValue\n",
    "\n",
    "def analysisGps(GpsInfo):\n",
    "    \"\"\"\n",
    "    GpsInfo:gps定位,经纬度\n",
    "    返回十进制的地理信息\n",
    "    \"\"\"\n",
    "    Npos = sum([(item[0]/item[1])*(1.0/(60**i)) for i, item in enumerate(GpsInfo[2])])\n",
    "    Epos = sum([(item[0]/item[1])*(1.0/(60**i)) for i, item in enumerate(GpsInfo[4])])\n",
    "    return Npos, Epos\n"
   ]
  },
  {
   "cell_type": "code",
   "execution_count": 4,
   "metadata": {
    "ExecuteTime": {
     "end_time": "2020-07-26T04:51:23.613722Z",
     "start_time": "2020-07-26T04:51:19.631211Z"
    }
   },
   "outputs": [],
   "source": [
    "HEIGHT = 300\n",
    "WIDTH = 500\n",
    "\n",
    "def resizeImage(fileName, multiple=1.5):\n",
    "    \"\"\"\n",
    "    fileName ：图片所在文件夹的路径\n",
    "    返回重定义尺寸的图片\n",
    "    \"\"\"\n",
    "    Height = int(HEIGHT*multiple)\n",
    "    Width = int(WIDTH*multiple)\n",
    "    \n",
    "    img = cv2.imread(fileName)\n",
    "    height, width = img.shape[:2]\n",
    "    \n",
    "    if height > width:\n",
    "        imgMini = cv2.resize(img, (int(img.shape[1] * Height / img.shape[0]), Height))\n",
    "        \n",
    "    else:\n",
    "        imgMini = cv2.resize(img, (Width, int(img.shape[0] * Width / img.shape[1])))\n",
    "\n",
    "    return imgMini\n",
    "\n",
    "def resizeAllImage(imagePath, imageSavePath):\n",
    "    \"\"\"\n",
    "    imagePath:图片所在的文件夹路径\n",
    "    imageSavePath:图片处理后所在的文件夹路径\n",
    "    \"\"\"\n",
    "    fileNames = findAllImage(imagePath)\n",
    "    \n",
    "    if not os.path.exists(imageSavePath):\n",
    "        os.mkdir(imageSavePath)\n",
    "    \n",
    "    for fileName in fileNames:\n",
    "        miniImage = resizeImage(os.path.join(imagePath, fileName))\n",
    "        cv2.imwrite(os.path.join(imageSavePath, fileName), miniImage)\n",
    "        \n",
    "        \n",
    "resizeAllImage('./img/', './miniImage')"
   ]
  },
  {
   "cell_type": "code",
   "execution_count": 5,
   "metadata": {
    "ExecuteTime": {
     "end_time": "2020-07-26T04:51:23.617649Z",
     "start_time": "2020-07-26T04:51:23.614628Z"
    }
   },
   "outputs": [],
   "source": [
    "def show_html(map, mapName, isShow=True):\n",
    "    \"\"\"\n",
    "    map: folium地图\n",
    "    map：定义地图名称\n",
    "    以html格式保存地图，并展示该html\n",
    "    \"\"\"\n",
    "    map.save(mapName)\n",
    "    if isShow:\n",
    "        return IFrame(src=mapName, width=980, height=600)\n",
    "    else:\n",
    "        return None"
   ]
  },
  {
   "cell_type": "code",
   "execution_count": 6,
   "metadata": {
    "ExecuteTime": {
     "end_time": "2020-07-26T04:51:23.690425Z",
     "start_time": "2020-07-26T04:51:23.619614Z"
    }
   },
   "outputs": [],
   "source": [
    "fileNames = findAllImage(rawImagePath='./img/')\n",
    "# 所有图片地理信息的列表\n",
    "geoDatas = []\n",
    "for imgName in fileNames:\n",
    "    img=Image.open('./img/' + imgName)\n",
    "    exifInfo = img._getexif()\n",
    "    GpsInfo = getGpsInfo(exifInfo)\n",
    "    geoData = analysisGps(GpsInfo)\n",
    "    geoDatas.append(geoData)"
   ]
  },
  {
   "cell_type": "code",
   "execution_count": 7,
   "metadata": {
    "ExecuteTime": {
     "end_time": "2020-07-26T04:51:23.695412Z",
     "start_time": "2020-07-26T04:51:23.691422Z"
    }
   },
   "outputs": [],
   "source": [
    "# 设置图片作为html格式的长和宽\n",
    "HTMLDemo_width = \"\"\"\n",
    "            <center><img src='data:image/jpeg;base64,{}' style='width: {}px'></center>\n",
    "            \"\"\"\n",
    "\n",
    "HTMLDemo_height = \"\"\"\n",
    "            <center><img src='data:image/jpeg;base64,{}' style='height: {}px'></center>\n",
    "            \"\"\""
   ]
  },
  {
   "cell_type": "code",
   "execution_count": 8,
   "metadata": {
    "ExecuteTime": {
     "end_time": "2020-07-26T04:51:23.699429Z",
     "start_time": "2020-07-26T04:51:23.696411Z"
    }
   },
   "outputs": [],
   "source": [
    "tile = [\n",
    "    'http://wprd01.is.autonavi.com/appmaptile?x={x}&y={y}&z={z}&lang=zh_cn&size=1&scl=1&style=7',\n",
    "    'http://wprd02.is.autonavi.com/appmaptile?x={x}&y={y}&z={z}&lang=zh_cn&size=1&scl=2&style=7',\n",
    "    'http://wprd02.is.autonavi.com/appmaptile?x={x}&y={y}&z={z}&lang=zh_cn&size=1&scl=1&style=6',\n",
    "]"
   ]
  },
  {
   "cell_type": "code",
   "execution_count": 17,
   "metadata": {
    "ExecuteTime": {
     "end_time": "2020-07-26T06:32:04.952377Z",
     "start_time": "2020-07-26T06:32:04.940409Z"
    }
   },
   "outputs": [
    {
     "data": {
      "text/html": [
       "<div style=\"width:100%;\"><div style=\"position:relative;width:100%;height:0;padding-bottom:60%;\"><iframe src=\"data:text/html;charset=utf-8;base64,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\" style=\"position:absolute;width:100%;height:100%;left:0;top:0;border:none !important;\" allowfullscreen webkitallowfullscreen mozallowfullscreen></iframe></div></div>"
      ],
      "text/plain": [
       "<folium.folium.Map at 0x1dd4407fcc0>"
      ]
     },
     "execution_count": 17,
     "metadata": {},
     "output_type": "execute_result"
    }
   ],
   "source": [
    "import folium\n",
    "\n",
    "m = folium.Map(location = [30,120],zoom_start = 5 ,tiles = 'Stamen', attr = \"Stamen\")\n",
    "\n",
    "m"
   ]
  },
  {
   "cell_type": "code",
   "execution_count": 9,
   "metadata": {
    "ExecuteTime": {
     "end_time": "2020-07-26T04:51:25.529199Z",
     "start_time": "2020-07-26T04:51:23.700061Z"
    },
    "scrolled": false
   },
   "outputs": [
    {
     "data": {
      "text/html": [
       "\n",
       "        <iframe\n",
       "            width=\"980\"\n",
       "            height=\"600\"\n",
       "            src=\"base_map_2.html\"\n",
       "            frameborder=\"0\"\n",
       "            allowfullscreen\n",
       "        ></iframe>\n",
       "        "
      ],
      "text/plain": [
       "<IPython.lib.display.IFrame at 0x1dd43f60208>"
      ]
     },
     "execution_count": 9,
     "metadata": {},
     "output_type": "execute_result"
    }
   ],
   "source": [
    "# 创建底图\n",
    "map = folium.Map(\n",
    "    location=[30.243463, 120.138724],\n",
    "    zoom_start=6,\n",
    "    tiles=tile[2],\n",
    "    attr='高德地图')\n",
    "\n",
    "# 插件：聚类\n",
    "marker_cluster = MarkerCluster().add_to(map)\n",
    "\n",
    "# 具有自定义图标和标记集群的绘图标记\n",
    "for geoData, fileName in zip(geoDatas, fileNames):\n",
    "    icon_path = './icon/足迹.png'\n",
    "    icon = folium.features.CustomIcon(icon_image=icon_path, icon_size=(30, 30))\n",
    "\n",
    "    imagePathName = os.path.join('./miniImage/', fileName)\n",
    "    encoded = base64.b64encode(open(imagePathName, 'rb').read())\n",
    "    height, width = cv2.imread(imagePathName).shape[:2]\n",
    "    \n",
    "    if height > width:\n",
    "        html = HTMLDemo_height.format(encoded.decode('UTF-8'), str(HEIGHT))\n",
    "        iframe = branca.element.IFrame(html=html, width=width*HEIGHT/height+10, height=HEIGHT+20)\n",
    "    else:\n",
    "        html = HTMLDemo_width.format(encoded.decode('UTF-8'), str(WIDTH))\n",
    "        iframe = branca.element.IFrame(html=html, width=WIDTH+10, height=height*WIDTH/width+10)\n",
    "        \n",
    "    popup = folium.Popup(iframe, max_width=500)\n",
    "\n",
    "    folium.Marker(location=[geoData[0], geoData[1]], icon=icon,\n",
    "                  popup=popup).add_to(marker_cluster)\n",
    "\n",
    "# 保存并展示图\n",
    "show_html(map, 'base_map_2.html', isShow=True)"
   ]
  }
 ],
 "metadata": {
  "kernelspec": {
   "display_name": "Python 3",
   "language": "python",
   "name": "python3"
  },
  "language_info": {
   "codemirror_mode": {
    "name": "ipython",
    "version": 3
   },
   "file_extension": ".py",
   "mimetype": "text/x-python",
   "name": "python",
   "nbconvert_exporter": "python",
   "pygments_lexer": "ipython3",
   "version": "3.6.8"
  },
  "nbTranslate": {
   "displayLangs": [
    "fr",
    "en"
   ],
   "hotkey": "alt-t",
   "langInMainMenu": true,
   "sourceLang": "en",
   "targetLang": "fr",
   "useGoogleTranslate": true
  },
  "toc": {
   "base_numbering": 1,
   "nav_menu": {},
   "number_sections": false,
   "sideBar": true,
   "skip_h1_title": false,
   "title_cell": "Table of Contents",
   "title_sidebar": "Contents",
   "toc_cell": false,
   "toc_position": {},
   "toc_section_display": true,
   "toc_window_display": false
  }
 },
 "nbformat": 4,
 "nbformat_minor": 2
}
